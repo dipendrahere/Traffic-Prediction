{
 "cells": [
  {
   "cell_type": "code",
   "execution_count": 1,
   "metadata": {},
   "outputs": [],
   "source": [
    "import pandas\n",
    "import matplotlib.pyplot as plt"
   ]
  },
  {
   "cell_type": "code",
   "execution_count": 26,
   "metadata": {},
   "outputs": [],
   "source": [
    "import csv\n",
    "import datetime\n",
    "import matplotlib.pyplot as plt\n",
    "f = open('week1.csv', 'r')\n",
    "flag = -1\n",
    "tms = []\n",
    "data = []\n",
    "reader = csv.reader(f, delimiter=',')\n",
    "for row in reader:\n",
    "\tif flag == -1:\n",
    "\t\tflag = 0\n",
    "\t\tcontinue\n",
    "\tprot = row[2].replace(' ', '')\n",
    "\tif prot != 'TCP':\n",
    "\t\tcontinue \n",
    "\t# print(row[2])\n",
    "\ttry:\n",
    "\t\tdata.append(int(row[8]))\n",
    "\t\ttms.append(datetime.datetime.strptime(row[0], '%Y-%m-%d %H:%M:%S.%f'))\n",
    "\texcept Exception as e:\n",
    "\t\tcontinue\n",
    "\tif len(tms) > 1000000:\n",
    "\t\tbreak\n",
    "st = tms[0]\n",
    "cnt = 0\n",
    "sums = 0\n",
    "points = []\n",
    "x = []\n",
    "y= []\n",
    "#print(len(tms), len(data))\n",
    "for i in range(len(data)):\n",
    "\tif tms[i] > st + datetime.timedelta(minutes = 10):\n",
    "\t\tst = st + datetime.timedelta(minutes = 10)\n",
    "\t\tpoints.append([cnt, sums])\n",
    "\t\tx.append(cnt)\n",
    "\t\ty.append(sums)\n",
    "\t\t# print([cnt, sums])\n",
    "\t\tcnt = 0\n",
    "\t\tsums = 0\n",
    "\tsums = sums + data[i]\n",
    "\tcnt = cnt+1\n",
    "\tif len(points) > 100000:\n",
    "\t\tbreak\n",
    "\t\n",
    "    \n",
    "    "
   ]
  },
  {
   "cell_type": "code",
   "execution_count": 27,
   "metadata": {},
   "outputs": [],
   "source": [
    "X = []\n",
    "Y = []\n",
    "for i in range(len(x)-1):\n",
    "    X.append(x[i])\n",
    "    Y.append(x[i+1])\n",
    "    "
   ]
  },
  {
   "cell_type": "code",
   "execution_count": 21,
   "metadata": {},
   "outputs": [
    {
     "data": {
      "text/plain": [
       "[287, 300, 305, 250, 242, 357, 292, 252, 296]"
      ]
     },
     "execution_count": 21,
     "metadata": {},
     "output_type": "execute_result"
    }
   ],
   "source": [
    "X[1:10]\n"
   ]
  },
  {
   "cell_type": "code",
   "execution_count": 22,
   "metadata": {},
   "outputs": [
    {
     "data": {
      "text/plain": [
       "[300, 305, 250, 242, 357, 292, 252, 296, 286]"
      ]
     },
     "execution_count": 22,
     "metadata": {},
     "output_type": "execute_result"
    }
   ],
   "source": [
    "Y[1:10]"
   ]
  },
  {
   "cell_type": "code",
   "execution_count": 28,
   "metadata": {},
   "outputs": [
    {
     "data": {
      "text/plain": [
       "92"
      ]
     },
     "execution_count": 28,
     "metadata": {},
     "output_type": "execute_result"
    }
   ],
   "source": [
    "len(X)\n"
   ]
  },
  {
   "cell_type": "code",
   "execution_count": 24,
   "metadata": {},
   "outputs": [
    {
     "data": {
      "text/plain": [
       "87"
      ]
     },
     "execution_count": 24,
     "metadata": {},
     "output_type": "execute_result"
    }
   ],
   "source": [
    "len(Y)"
   ]
  },
  {
   "cell_type": "code",
   "execution_count": 4,
   "metadata": {},
   "outputs": [
    {
     "name": "stderr",
     "output_type": "stream",
     "text": [
      "Using TensorFlow backend.\n"
     ]
    }
   ],
   "source": [
    "import numpy\n",
    "import matplotlib.pyplot as plt\n",
    "import pandas\n",
    "import math\n",
    "from keras.models import Sequential\n",
    "from keras.layers import Dense\n",
    "from keras.layers import LSTM\n",
    "from sklearn.preprocessing import MinMaxScaler\n",
    "from sklearn.metrics import mean_squared_error\n"
   ]
  },
  {
   "cell_type": "code",
   "execution_count": 7,
   "metadata": {},
   "outputs": [],
   "source": [
    "from sklearn.preprocessing import MinMaxScaler\n",
    "# fix random seed for reproducibility\n",
    "numpy.random.seed(7)"
   ]
  },
  {
   "cell_type": "code",
   "execution_count": 15,
   "metadata": {},
   "outputs": [],
   "source": [
    "# convert an array of values into a dataset matrix\n",
    "def create_dataset(dataset, look_back=1):\n",
    "\tdataX, dataY = [], []\n",
    "\tfor i in range(len(dataset)-look_back-1):\n",
    "\t\ta = dataset[i:(i+look_back)]\n",
    "\t\tdataX.append(a)\n",
    "\t\tdataY.append(dataset[i + look_back])\n",
    "\treturn numpy.array(dataX), numpy.array(dataY)"
   ]
  },
  {
   "cell_type": "code",
   "execution_count": 20,
   "metadata": {},
   "outputs": [],
   "source": [
    "# reshape into X=t and Y=t+1\n",
    "look_back = 1\n",
    "trainX, trainY = create_dataset(train, look_back)\n",
    "testX, testY = create_dataset(test, look_back)"
   ]
  },
  {
   "cell_type": "code",
   "execution_count": 21,
   "metadata": {},
   "outputs": [],
   "source": [
    "train_size = int(len(x) * 0.67)\n",
    "test_size = len(x) - train_size\n",
    "train, test = x[0:train_size], x[train_size:len(x)]\n"
   ]
  },
  {
   "cell_type": "code",
   "execution_count": 22,
   "metadata": {},
   "outputs": [],
   "source": [
    "# reshape input to be [samples, time steps, features]\n",
    "trainX = numpy.reshape(trainX, (trainX.shape[0], 1, trainX.shape[1]))\n",
    "testX = numpy.reshape(testX, (testX.shape[0], 1, testX.shape[1]))"
   ]
  },
  {
   "cell_type": "code",
   "execution_count": null,
   "metadata": {},
   "outputs": [
    {
     "name": "stdout",
     "output_type": "stream",
     "text": [
      "Epoch 1/100\n",
      " - 10s - loss: 32822.6569\n",
      "Epoch 2/100\n",
      " - 9s - loss: 31985.8428\n",
      "Epoch 3/100\n",
      " - 9s - loss: 31265.9362\n",
      "Epoch 4/100\n",
      " - 9s - loss: 30576.4541\n",
      "Epoch 5/100\n",
      " - 8s - loss: 29901.3800\n",
      "Epoch 6/100\n",
      " - 9s - loss: 29259.1678\n",
      "Epoch 7/100\n",
      " - 8s - loss: 28629.1478\n",
      "Epoch 8/100\n",
      " - 9s - loss: 28007.3509\n",
      "Epoch 9/100\n",
      " - 9s - loss: 27420.8334\n",
      "Epoch 10/100\n",
      " - 9s - loss: 26837.8515\n",
      "Epoch 11/100\n",
      " - 9s - loss: 26273.0530\n",
      "Epoch 12/100\n",
      " - 9s - loss: 25741.5299\n",
      "Epoch 13/100\n",
      " - 9s - loss: 25212.3939\n",
      "Epoch 14/100\n",
      " - 9s - loss: 24710.1185\n",
      "Epoch 15/100\n",
      " - 9s - loss: 24213.5829\n",
      "Epoch 16/100\n",
      " - 9s - loss: 23739.1114\n",
      "Epoch 17/100\n",
      " - 8s - loss: 23270.8493\n",
      "Epoch 18/100\n",
      " - 9s - loss: 22827.8749\n",
      "Epoch 19/100\n",
      " - 8s - loss: 22396.3608\n",
      "Epoch 20/100\n",
      " - 8s - loss: 21977.4628\n",
      "Epoch 21/100\n",
      " - 8s - loss: 21571.6809\n",
      "Epoch 22/100\n",
      " - 8s - loss: 21181.0031\n",
      "Epoch 23/100\n",
      " - 8s - loss: 20800.5479\n",
      "Epoch 24/100\n",
      " - 9s - loss: 20428.5003\n",
      "Epoch 25/100\n",
      " - 8s - loss: 20079.3740\n",
      "Epoch 26/100\n",
      " - 8s - loss: 19722.1362\n",
      "Epoch 27/100\n",
      " - 9s - loss: 19394.7260\n",
      "Epoch 28/100\n",
      " - 8s - loss: 19054.3711\n",
      "Epoch 29/100\n",
      " - 9s - loss: 18741.7401\n",
      "Epoch 30/100\n",
      " - 8s - loss: 18436.1155\n",
      "Epoch 31/100\n",
      " - 9s - loss: 18136.0297\n",
      "Epoch 32/100\n",
      " - 9s - loss: 17844.7257\n",
      "Epoch 33/100\n",
      " - 9s - loss: 17561.4232\n",
      "Epoch 34/100\n",
      " - 9s - loss: 17293.9310\n",
      "Epoch 35/100\n",
      " - 9s - loss: 17040.5184\n",
      "Epoch 36/100\n",
      " - 10s - loss: 17602.0517\n",
      "Epoch 37/100\n"
     ]
    }
   ],
   "source": [
    "# create and fit the LSTM network\n",
    "model = Sequential()\n",
    "model.add(LSTM(4, input_shape=(1, look_back)))\n",
    "model.add(Dense(1))\n",
    "model.compile(loss='mean_squared_error', optimizer='adam')\n",
    "model.fit(trainX, trainY, epochs=100, batch_size=1, verbose=2)"
   ]
  },
  {
   "cell_type": "code",
   "execution_count": 29,
   "metadata": {},
   "outputs": [
    {
     "data": {
      "image/png": "[encoded data removed]",
      "text/plain": [
       "<Figure size 432x288 with 1 Axes>"
      ]
     },
     "metadata": {
      "needs_background": "light"
     },
     "output_type": "display_data"
    }
   ],
   "source": [
    "plt.plot(X)\n",
    "plt.plot(Y)\n",
    "plt.show()\n"
   ]
  },
  {
   "cell_type": "code",
   "execution_count": null,
   "metadata": {},
   "outputs": [],
   "source": []
  }
 ],
 "metadata": {
  "kernelspec": {
   "display_name": "Python 3",
   "language": "python",
   "name": "python3"
  },
  "language_info": {
   "codemirror_mode": {
    "name": "ipython",
    "version": 3
   },
   "file_extension": ".py",
   "mimetype": "text/x-python",
   "name": "python",
   "nbconvert_exporter": "python",
   "pygments_lexer": "ipython3",
   "version": "3.6.7"
  }
 },
 "nbformat": 4,
 "nbformat_minor": 2
}
